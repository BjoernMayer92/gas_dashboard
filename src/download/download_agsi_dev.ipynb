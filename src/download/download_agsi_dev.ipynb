{
 "cells": [
  {
   "cell_type": "markdown",
   "metadata": {},
   "source": [
    "# 0 Import Packages"
   ]
  },
  {
   "cell_type": "code",
   "execution_count": 1,
   "metadata": {},
   "outputs": [],
   "source": [
    "from pathlib import Path\n",
    "import sys\n",
    "import os\n",
    "import requests\n",
    "import pandas as pd\n",
    "import json\n",
    "from tqdm import tqdm\n"
   ]
  },
  {
   "cell_type": "markdown",
   "metadata": {},
   "source": [
    "# 1 Metadata"
   ]
  },
  {
   "cell_type": "markdown",
   "metadata": {},
   "source": [
    "## 1.1 Paths"
   ]
  },
  {
   "cell_type": "code",
   "execution_count": 2,
   "metadata": {},
   "outputs": [],
   "source": [
    "ROOT_DIR = os.path.join(Path.cwd().parents[1], \"config\")"
   ]
  },
  {
   "cell_type": "markdown",
   "metadata": {},
   "source": [
    "## 1.2 Custom Packages"
   ]
  },
  {
   "cell_type": "code",
   "execution_count": 3,
   "metadata": {},
   "outputs": [],
   "source": [
    "sys.path.append(str(ROOT_DIR))\n",
    "\n",
    "import keys\n",
    "import config"
   ]
  },
  {
   "cell_type": "markdown",
   "metadata": {},
   "source": [
    "# 2 Scrap Data"
   ]
  },
  {
   "cell_type": "markdown",
   "metadata": {},
   "source": [
    "## 2.1 Get EIC Listing"
   ]
  },
  {
   "cell_type": "code",
   "execution_count": 4,
   "metadata": {},
   "outputs": [],
   "source": [
    "url = \"https://agsi.gie.eu/api/about\"\n",
    "\n",
    "headers = {}\n",
    "headers[\"x-key\"] = keys.AGSI\n",
    "\n",
    "\n",
    "resp = requests.get(url, headers=headers)\n",
    "data = resp.json()"
   ]
  },
  {
   "cell_type": "code",
   "execution_count": 5,
   "metadata": {},
   "outputs": [],
   "source": [
    "EIC_listing_file = os.path.join(config.DATA_AGSI_DIR, \"EIC_listing.json\")"
   ]
  },
  {
   "cell_type": "code",
   "execution_count": 6,
   "metadata": {},
   "outputs": [],
   "source": [
    "with open(EIC_listing_file, 'w') as file:\n",
    "    json.dump(data, file)"
   ]
  },
  {
   "cell_type": "markdown",
   "metadata": {},
   "source": [
    "## 2.2 Extract EIC Listing"
   ]
  },
  {
   "cell_type": "code",
   "execution_count": 7,
   "metadata": {},
   "outputs": [],
   "source": [
    "with open(EIC_listing_file,\"r\") as file:\n",
    "    EIC_listing_data = json.load(file)"
   ]
  },
  {
   "cell_type": "code",
   "execution_count": 8,
   "metadata": {},
   "outputs": [],
   "source": [
    "country_name_list = list(data[\"SSO\"][\"Europe\"].keys())"
   ]
  },
  {
   "cell_type": "code",
   "execution_count": 9,
   "metadata": {},
   "outputs": [],
   "source": [
    "country_name=\"Germany\""
   ]
  },
  {
   "cell_type": "code",
   "execution_count": 10,
   "metadata": {},
   "outputs": [
    {
     "data": {
      "text/plain": [
       "'21X000000001160J'"
      ]
     },
     "execution_count": 10,
     "metadata": {},
     "output_type": "execute_result"
    }
   ],
   "source": [
    "company_list = EIC_listing_data[\"SSO\"][\"Europe\"][country_name]\n",
    "company_list[0][\"eic\"]"
   ]
  },
  {
   "cell_type": "code",
   "execution_count": 11,
   "metadata": {},
   "outputs": [],
   "source": [
    "api_string = \"https://agsi.gie.eu/api?\""
   ]
  },
  {
   "cell_type": "code",
   "execution_count": 12,
   "metadata": {},
   "outputs": [],
   "source": [
    "def generate_query_string(api_string, query_string_parameter_dict):\n",
    "    \"\"\"_summary_\n",
    "\n",
    "    Args:\n",
    "        api_string (_type_): _description_\n",
    "        query_string_parameter_dict (_type_): _description_\n",
    "\n",
    "    Returns:\n",
    "        _type_: _description_\n",
    "    \"\"\"\n",
    "    query_string = api_string\n",
    "    for query_string_parameter_name in query_string_parameter_dict:\n",
    "        query_string_parameter_value = query_string_parameter_dict[query_string_parameter_name]\n",
    "        query_string_parameter_pair = \"=\".join([query_string_parameter_name, query_string_parameter_value])\n",
    "        query_string = \"&\".join([query_string, query_string_parameter_pair])\n",
    "\n",
    "    return query_string"
   ]
  },
  {
   "cell_type": "code",
   "execution_count": 13,
   "metadata": {},
   "outputs": [],
   "source": [
    "def generate_query_string_list(EIC_listing_data):\n",
    "    query_string_list = []\n",
    "    \n",
    "    company_list = EIC_listing_data[\"SSO\"][\"Europe\"][country_name]\n",
    "    query_string_parameter_dict = {}\n",
    "    for company in company_list:\n",
    "        query_string_parameter_dict[\"company\"] = company[\"eic\"]\n",
    "        facility_list = company[\"facilities\"]\n",
    "        for facility in facility_list:\n",
    "            query_string_parameter_dict[\"facility\"] = facility[\"eic\"]\n",
    "            query_string_parameter_dict[\"country\"] = facility[\"country\"][\"code\"]\n",
    "            query_string = generate_query_string(api_string, query_string_parameter_dict)\n",
    "\n",
    "            query_string_list.append(query_string)\n",
    "    return query_string_list"
   ]
  },
  {
   "cell_type": "code",
   "execution_count": 14,
   "metadata": {},
   "outputs": [],
   "source": [
    "def request_query_as_json(query_string, api_key=keys.AGSI):\n",
    "    header = {}\n",
    "    header[\"x-key\"] = keys.AGSI\n",
    "    \n",
    "    resp = requests.get(query_string, headers=header)\n",
    "    data = resp.json()\n",
    "\n",
    "    return data"
   ]
  },
  {
   "cell_type": "code",
   "execution_count": 15,
   "metadata": {},
   "outputs": [],
   "source": [
    "extraction_keyword_list = [\"gasDayStart\",\"gasInStorage\",\"injection\",\"withdrawal\",\"workingGasVolume\",\"status\",\"trend\",\"full\"]"
   ]
  },
  {
   "cell_type": "code",
   "execution_count": 16,
   "metadata": {},
   "outputs": [],
   "source": [
    "def decompose_query_string_into_parameter_dict(query_string):\n",
    "    query_string_parameter_string_list = query_string.split(\"&\")[1:]\n",
    "    query_string_parameter_dict = {}\n",
    "\n",
    "    for query_string_parameter_string in query_string_parameter_string_list:\n",
    "        query_string_parameter_name, query_string_parameter_value  = query_string_parameter_string.split(\"=\")\n",
    "        query_string_parameter_dict[query_string_parameter_name] = query_string_parameter_value;\n",
    "    \n",
    "    return query_string_parameter_dict\n",
    "    "
   ]
  },
  {
   "cell_type": "code",
   "execution_count": 17,
   "metadata": {},
   "outputs": [],
   "source": [
    "metadata_keyword_list = [\"name\",\"url\",\"injectionCapacity\",\"withdrawalCapacity\"]"
   ]
  },
  {
   "cell_type": "code",
   "execution_count": 21,
   "metadata": {},
   "outputs": [],
   "source": [
    "def curl_data_from_query(query_string, extraction_keyword_list, metadata_keyword_list):\n",
    "\n",
    "    initial_request_data = request_query_as_json(query_string)\n",
    "    number_of_pages = initial_request_data[\"last_page\"]\n",
    "    \n",
    "    # Extract Metadata from first entry\n",
    "    metadata_dict = {}\n",
    "    initial_request_data_first_entry = initial_request_data[\"data\"][0]\n",
    "\n",
    "    for metadata_keyword in metadata_keyword_list:\n",
    "        metadata_dict[metadata_keyword] = initial_request_data_first_entry[metadata_keyword]\n",
    "        \n",
    "    # Query all pages\n",
    "    page_dictionary_list = []\n",
    "    for page_number in tqdm(range(number_of_pages)):\n",
    "        query_string_page=\"&\".join([query_string,\"page=\"+str(page_number)])\n",
    "        page_dictionary_list.append(request_query_as_json(query_string_page))\n",
    "    \n",
    "    # Extract entries from the pages\n",
    "    dataseries_list = []\n",
    "    for page_dictionary in page_dictionary_list: \n",
    "        for datapoint in page_dictionary[\"data\"]:\n",
    "            datapoint_list = []\n",
    "            for keyword in extraction_keyword_list: \n",
    "                datapoint_list.append(datapoint[keyword])\n",
    "            dataseries_list.append(datapoint_list)\n",
    "    \n",
    "    dataseries_df = pd.DataFrame(dataseries_list, columns = extraction_keyword_list)\n",
    "    dataseries_df.attrs = metadata_dict\n",
    "    return dataseries_df\n",
    "    "
   ]
  },
  {
   "cell_type": "code",
   "execution_count": 25,
   "metadata": {},
   "outputs": [],
   "source": [
    "query_string_list = generate_query_string_list(EIC_listing_data)"
   ]
  },
  {
   "cell_type": "code",
   "execution_count": 28,
   "metadata": {},
   "outputs": [
    {
     "name": "stderr",
     "output_type": "stream",
     "text": [
      " 21%|██        | 30/143 [00:29<01:53,  1.00s/it]"
     ]
    }
   ],
   "source": [
    "facility_dataseries = curl_data_from_query(query_string_list[0], extraction_keyword_list, metadata_keyword_list)"
   ]
  },
  {
   "cell_type": "code",
   "execution_count": null,
   "metadata": {},
   "outputs": [],
   "source": []
  }
 ],
 "metadata": {
  "kernelspec": {
   "display_name": "Python 3.7.6 ('base')",
   "language": "python",
   "name": "python3"
  },
  "language_info": {
   "codemirror_mode": {
    "name": "ipython",
    "version": 3
   },
   "file_extension": ".py",
   "mimetype": "text/x-python",
   "name": "python",
   "nbconvert_exporter": "python",
   "pygments_lexer": "ipython3",
   "version": "3.7.6"
  },
  "orig_nbformat": 4,
  "vscode": {
   "interpreter": {
    "hash": "6adb20466f5451142408291a7c81b01ccd2254e0d18dcecb7c794a923752ecef"
   }
  }
 },
 "nbformat": 4,
 "nbformat_minor": 2
}
