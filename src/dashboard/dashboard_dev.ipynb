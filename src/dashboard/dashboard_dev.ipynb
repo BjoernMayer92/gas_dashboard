{
 "cells": [
  {
   "cell_type": "code",
   "execution_count": 67,
   "metadata": {},
   "outputs": [],
   "source": [
    "\n",
    "import sys\n",
    "import os\n",
    "import requests\n",
    "from pathlib import Path\n",
    "import pandas as pd\n",
    "\n",
    "\n",
    "\n",
    "root_dir = Path.cwd().parents[1]\n",
    "conf_dir = os.path.join(root_dir,\"config\")\n",
    "\n",
    "\n",
    "sys.path.append(str(conf_dir))\n",
    "\n",
    "import config\n",
    "import keys\n",
    "\n",
    "extraction_keyword_list = config.AGSI_EXTRACTION_KEYWORD_LIST\n",
    "metadata_keyword_list = config.AGSI_METADATA_KEYWORD_LIST\n",
    "api_string = config.AGSI_API_STRING\n",
    "sys.path.append(str(config.SRC_DIR))\n",
    "\n",
    "import agsi_api as agsi\n",
    "\n",
    "\n",
    "file_facility_queries = os.path.join(config.DATA_AGSI_DIR,\"Query_listing.json\")\n",
    "\n",
    "data = pd.read_json(file_facility_queries)"
   ]
  },
  {
   "cell_type": "code",
   "execution_count": 68,
   "metadata": {},
   "outputs": [],
   "source": [
    "index=12"
   ]
  },
  {
   "cell_type": "code",
   "execution_count": 69,
   "metadata": {},
   "outputs": [],
   "source": [
    "timeseries_filename = \"_\".join([data[\"country\"][index],data[\"company\"][index],data[\"facility\"][index]])+\".json\""
   ]
  },
  {
   "cell_type": "code",
   "execution_count": 70,
   "metadata": {},
   "outputs": [],
   "source": [
    "timeseries_path = config.DATA_AGSI_DIR"
   ]
  },
  {
   "cell_type": "code",
   "execution_count": 71,
   "metadata": {},
   "outputs": [],
   "source": [
    "timeseries_file = os.path.join(timeseries_path, timeseries_filename)"
   ]
  },
  {
   "cell_type": "code",
   "execution_count": 72,
   "metadata": {},
   "outputs": [],
   "source": [
    "timeseries_data = pd.read_json(timeseries_file)"
   ]
  },
  {
   "cell_type": "code",
   "execution_count": 91,
   "metadata": {},
   "outputs": [
    {
     "data": {
      "text/html": [
       "<div>\n",
       "<style scoped>\n",
       "    .dataframe tbody tr th:only-of-type {\n",
       "        vertical-align: middle;\n",
       "    }\n",
       "\n",
       "    .dataframe tbody tr th {\n",
       "        vertical-align: top;\n",
       "    }\n",
       "\n",
       "    .dataframe thead th {\n",
       "        text-align: right;\n",
       "    }\n",
       "</style>\n",
       "<table border=\"1\" class=\"dataframe\">\n",
       "  <thead>\n",
       "    <tr style=\"text-align: right;\">\n",
       "      <th></th>\n",
       "      <th>gasDayStart</th>\n",
       "      <th>gasInStorage</th>\n",
       "      <th>injection</th>\n",
       "      <th>withdrawal</th>\n",
       "      <th>workingGasVolume</th>\n",
       "      <th>status</th>\n",
       "      <th>trend</th>\n",
       "      <th>full</th>\n",
       "    </tr>\n",
       "  </thead>\n",
       "  <tbody>\n",
       "    <tr>\n",
       "      <th>0</th>\n",
       "      <td>2022-09-18</td>\n",
       "      <td>0.9949</td>\n",
       "      <td>9.6</td>\n",
       "      <td>0</td>\n",
       "      <td>0.999</td>\n",
       "      <td>C</td>\n",
       "      <td>0.96</td>\n",
       "      <td>99.59</td>\n",
       "    </tr>\n",
       "    <tr>\n",
       "      <th>1</th>\n",
       "      <td>2022-09-17</td>\n",
       "      <td>0.9853</td>\n",
       "      <td>10.56</td>\n",
       "      <td>0</td>\n",
       "      <td>0.999</td>\n",
       "      <td>C</td>\n",
       "      <td>1.06</td>\n",
       "      <td>99.59</td>\n",
       "    </tr>\n",
       "    <tr>\n",
       "      <th>2</th>\n",
       "      <td>2022-09-16</td>\n",
       "      <td>0.9747</td>\n",
       "      <td>0.33</td>\n",
       "      <td>0</td>\n",
       "      <td>0.999</td>\n",
       "      <td>C</td>\n",
       "      <td>0.03</td>\n",
       "      <td>99.59</td>\n",
       "    </tr>\n",
       "    <tr>\n",
       "      <th>3</th>\n",
       "      <td>2022-09-15</td>\n",
       "      <td>0.9744</td>\n",
       "      <td>0</td>\n",
       "      <td>0</td>\n",
       "      <td>0.999</td>\n",
       "      <td>C</td>\n",
       "      <td>-0</td>\n",
       "      <td>99.59</td>\n",
       "    </tr>\n",
       "    <tr>\n",
       "      <th>4</th>\n",
       "      <td>2022-09-14</td>\n",
       "      <td>0.9744</td>\n",
       "      <td>0</td>\n",
       "      <td>0</td>\n",
       "      <td>0.999</td>\n",
       "      <td>C</td>\n",
       "      <td>-0</td>\n",
       "      <td>99.59</td>\n",
       "    </tr>\n",
       "    <tr>\n",
       "      <th>...</th>\n",
       "      <td>...</td>\n",
       "      <td>...</td>\n",
       "      <td>...</td>\n",
       "      <td>...</td>\n",
       "      <td>...</td>\n",
       "      <td>...</td>\n",
       "      <td>...</td>\n",
       "      <td>...</td>\n",
       "    </tr>\n",
       "    <tr>\n",
       "      <th>4285</th>\n",
       "      <td>2011-01-24</td>\n",
       "      <td>-</td>\n",
       "      <td>-</td>\n",
       "      <td>-</td>\n",
       "      <td>NaN</td>\n",
       "      <td>N</td>\n",
       "      <td>-</td>\n",
       "      <td>99.59</td>\n",
       "    </tr>\n",
       "    <tr>\n",
       "      <th>4286</th>\n",
       "      <td>2011-01-23</td>\n",
       "      <td>-</td>\n",
       "      <td>-</td>\n",
       "      <td>-</td>\n",
       "      <td>NaN</td>\n",
       "      <td>N</td>\n",
       "      <td>-</td>\n",
       "      <td>99.59</td>\n",
       "    </tr>\n",
       "    <tr>\n",
       "      <th>4287</th>\n",
       "      <td>2011-01-22</td>\n",
       "      <td>-</td>\n",
       "      <td>-</td>\n",
       "      <td>-</td>\n",
       "      <td>NaN</td>\n",
       "      <td>N</td>\n",
       "      <td>-</td>\n",
       "      <td>99.59</td>\n",
       "    </tr>\n",
       "    <tr>\n",
       "      <th>4288</th>\n",
       "      <td>2011-01-21</td>\n",
       "      <td>-</td>\n",
       "      <td>-</td>\n",
       "      <td>-</td>\n",
       "      <td>NaN</td>\n",
       "      <td>N</td>\n",
       "      <td>-</td>\n",
       "      <td>99.59</td>\n",
       "    </tr>\n",
       "    <tr>\n",
       "      <th>4289</th>\n",
       "      <td>2011-01-20</td>\n",
       "      <td>-</td>\n",
       "      <td>-</td>\n",
       "      <td>-</td>\n",
       "      <td>NaN</td>\n",
       "      <td>N</td>\n",
       "      <td>-</td>\n",
       "      <td>99.59</td>\n",
       "    </tr>\n",
       "  </tbody>\n",
       "</table>\n",
       "<p>4290 rows × 8 columns</p>\n",
       "</div>"
      ],
      "text/plain": [
       "     gasDayStart gasInStorage injection withdrawal workingGasVolume status  \\\n",
       "0     2022-09-18       0.9949       9.6          0            0.999      C   \n",
       "1     2022-09-17       0.9853     10.56          0            0.999      C   \n",
       "2     2022-09-16       0.9747      0.33          0            0.999      C   \n",
       "3     2022-09-15       0.9744         0          0            0.999      C   \n",
       "4     2022-09-14       0.9744         0          0            0.999      C   \n",
       "...          ...          ...       ...        ...              ...    ...   \n",
       "4285  2011-01-24            -         -          -              NaN      N   \n",
       "4286  2011-01-23            -         -          -              NaN      N   \n",
       "4287  2011-01-22            -         -          -              NaN      N   \n",
       "4288  2011-01-21            -         -          -              NaN      N   \n",
       "4289  2011-01-20            -         -          -              NaN      N   \n",
       "\n",
       "     trend   full  \n",
       "0     0.96  99.59  \n",
       "1     1.06  99.59  \n",
       "2     0.03  99.59  \n",
       "3       -0  99.59  \n",
       "4       -0  99.59  \n",
       "...    ...    ...  \n",
       "4285     -  99.59  \n",
       "4286     -  99.59  \n",
       "4287     -  99.59  \n",
       "4288     -  99.59  \n",
       "4289     -  99.59  \n",
       "\n",
       "[4290 rows x 8 columns]"
      ]
     },
     "execution_count": 91,
     "metadata": {},
     "output_type": "execute_result"
    }
   ],
   "source": [
    "timeseries_data"
   ]
  },
  {
   "cell_type": "code",
   "execution_count": 98,
   "metadata": {},
   "outputs": [
    {
     "ename": "SyntaxError",
     "evalue": "invalid syntax (2017778653.py, line 1)",
     "output_type": "error",
     "traceback": [
      "\u001b[0;36m  Input \u001b[0;32mIn [98]\u001b[0;36m\u001b[0m\n\u001b[0;31m    timeseries_data.replace(\"-\",np.nan).astype({\"gasInStorage\":float\"injection\":float,\"withdrawal\":float,\"workingGasVolume\":float,\"trend\":float,\"full\":float})\u001b[0m\n\u001b[0m                                                                    ^\u001b[0m\n\u001b[0;31mSyntaxError\u001b[0m\u001b[0;31m:\u001b[0m invalid syntax\n"
     ]
    }
   ],
   "source": [
    "timeseries_data.replace(\"-\",np.nan).astype({\"gasInStorage\":float,\"injection\":float,\"withdrawal\":float,\"workingGasVolume\":float,\"trend\":float,\"full\":float})"
   ]
  },
  {
   "cell_type": "code",
   "execution_count": 86,
   "metadata": {},
   "outputs": [],
   "source": [
    "timeseries_data[\"full\"] = timeseries_data[\"full\"].replace(\"-\",np.nan)\n",
    "timeseries_data[\"workingGasVolume\"] = timeseries_data[\"workingGasVolume\"].replace(\"-\",np.nan)\n",
    "\n"
   ]
  },
  {
   "cell_type": "code",
   "execution_count": 87,
   "metadata": {},
   "outputs": [],
   "source": [
    "import numpy as np"
   ]
  },
  {
   "cell_type": "code",
   "execution_count": 88,
   "metadata": {},
   "outputs": [],
   "source": [
    "timeseries_data[\"full\"] = timeseries_data[\"full\"].astype(float)[0]"
   ]
  },
  {
   "cell_type": "code",
   "execution_count": 89,
   "metadata": {},
   "outputs": [
    {
     "data": {
      "text/plain": [
       "<AxesSubplot: xlabel='gasDayStart'>"
      ]
     },
     "execution_count": 89,
     "metadata": {},
     "output_type": "execute_result"
    },
    {
     "data": {
      "image/png": "[encoded data removed]",
      "text/plain": [
       "<Figure size 640x480 with 1 Axes>"
      ]
     },
     "metadata": {},
     "output_type": "display_data"
    }
   ],
   "source": [
    "timeseries_data.plot(x=\"gasDayStart\",y=\"full\")"
   ]
  },
  {
   "cell_type": "code",
   "execution_count": null,
   "metadata": {},
   "outputs": [],
   "source": []
  }
 ],
 "metadata": {
  "kernelspec": {
   "display_name": "Python 3.10.4 ('gas')",
   "language": "python",
   "name": "python3"
  },
  "language_info": {
   "codemirror_mode": {
    "name": "ipython",
    "version": 3
   },
   "file_extension": ".py",
   "mimetype": "text/x-python",
   "name": "python",
   "nbconvert_exporter": "python",
   "pygments_lexer": "ipython3",
   "version": "3.10.4"
  },
  "orig_nbformat": 4,
  "vscode": {
   "interpreter": {
    "hash": "9cea2c766d0fec5809e7a67b638227b9e56b52bee30c7bc30be41c753a94ada8"
   }
  }
 },
 "nbformat": 4,
 "nbformat_minor": 2
}
